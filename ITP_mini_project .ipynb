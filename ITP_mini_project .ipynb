{
 "cells": [
  {
   "cell_type": "markdown",
   "metadata": {},
   "source": [
    "# <center>PGP Data Science Engineering</center>\n",
    "## <center>Introduction to Programming – Mini Project:</center>\n"
   ]
  },
  {
   "cell_type": "markdown",
   "metadata": {},
   "source": [
    "### Problem 1:\n",
    "\n",
    "1. Write a program to calculate area of shapes. Your program should be capable of calculating the area of a square, rectangle, triangle and a circle. The user should be presented with options to select the shape. Based on which shape is chosed by the user, the program should ask for the appropriate input and print the resulting area on the screen.\n",
    "\n",
    "When the program is run, the screen should display something like this:\n",
    "\n",
    "**Which shape would you like to calculate the area for? Please enter the option number-**<br>\n",
    "**1. Square**<br>\n",
    "**2. Rectangle**<br>\n",
    "**3. Triangle**<br>\n",
    "**4. Circle**<br>\n",
    "**Enter Option: _**\n",
    "\n",
    "Say the user enters the option 1.\n",
    "\n",
    "**Please enter the length of a side: _**\n",
    "\n",
    "If the user enters a value of 5. The output should be:\n",
    "\n",
    "**The area of the square is 25**\n",
    "\n",
    "This program should indicate that the input is invalid if the user enters a character instead of a number as input. For instance if the user enters a value of ‘a’ instead of 5 in the previous example the program should prompt:\n",
    "\n",
    "**Invalid input, please enter a number: _**\n"
   ]
  },
  {
   "cell_type": "code",
   "execution_count": 52,
   "metadata": {},
   "outputs": [
    {
     "name": "stdout",
     "output_type": "stream",
     "text": [
      "Which shape would you like to calculate the area for?Please enter the option number-\n",
      "1.Square\n",
      "2.Rectangle\n",
      "3.Triangle\n",
      "4.Circle\n",
      "Enter Option:a\n",
      "Invalid input,Please enter a number:_\n"
     ]
    }
   ],
   "source": [
    "shape=input(\"Which shape would you like to calculate the area for?Please enter the option number-\\n1.Square\\n2.Rectangle\\n3.Triangle\\n4.Circle\\nEnter Option:\")\n",
    "if shape=='1':\n",
    "    side=int(input(\"Please enter the length of a side:\"))\n",
    "    print(\"The area of the square is\",side**2)\n",
    "elif shape=='2':\n",
    "    length=int(input(\"Please enter the length of rectangle:\"))\n",
    "    breadth=int(input(\"Please enter the width of rectangle:\"))\n",
    "    print(\"The area of the rectangle is\",length*breadth)\n",
    "elif shape=='3':\n",
    "    base=int(input(\"Please enter the base of triangle:\"))\n",
    "    height=int(input(\"Please enter the height of triangle:\"))\n",
    "    print(\"The area of the triangle is\",(1/2)*base*height)\n",
    "elif shape=='4':\n",
    "    pi=3.14\n",
    "    radius=int(input(\"Please enter the radius of the circle:\"))\n",
    "    print(\"The area of the circle is\",pi*(radius**2))\n",
    "elif isinstance(shape,str):\n",
    "    print(\"Invalid input,Please enter a number:_\")\n",
    "    #isalpha(),isdigit()"
   ]
  },
  {
   "cell_type": "code",
   "execution_count": 13,
   "metadata": {},
   "outputs": [
    {
     "name": "stdout",
     "output_type": "stream",
     "text": [
      "Which shape would you like to calculate the area for?a\n",
      "you have entered invalid value\n"
     ]
    }
   ],
   "source": [
    "area_of_chosen_figure={1:\"Square\",2:\"Reactangle\",3:\"Traingle\",4:\"circle\"}\n",
    "option=(input(\"Which shape would you like to calculate the area for?\"))\n",
    "\n",
    "try:\n",
    "    for i in area_of_chosen_figure:\n",
    "        if i==int(option):\n",
    "            print(area_of_chosen_figure[i])\n",
    "            if area_of_chosen_figure[i]==\"Square\":\n",
    "                side= int(input(\"enter the side of square: \"))\n",
    "                area=side*side\n",
    "                print(\"area of square is - \",area)\n",
    "            elif area_of_chosen_figure[i]==\"Reactangle\":\n",
    "                length=int(input(\"enter the length of rectangle: \"))\n",
    "                breath=int(input(\"enter the breath of rectangle: \"))\n",
    "                area=length*breath\n",
    "                print(\"area of rectangle is- \",area)\n",
    "            elif area_of_chosen_figure[i]==\"Traingle\":\n",
    "                base=int(input(\"enter the base of traingle:\"))\n",
    "                height=int(input(\"enter the height of traingle\"))\n",
    "                area=(1/2)*base*height\n",
    "                print(\"the area of traingle is -\",area)\n",
    "            \n",
    "            elif area_of_chosen_figure[i]==4:\n",
    "                radius=int(input(\"enter the radius of circle: \"))\n",
    "                pi=3.14\n",
    "                area=pi*radius*radius\n",
    "                print(\"the area of circle is -\",area)\n",
    "except:\n",
    "    print(\"you have entered invalid value\")"
   ]
  },
  {
   "cell_type": "markdown",
   "metadata": {},
   "source": [
    "### Problem 2:\n",
    "\n",
    "Create and encrypter in python based on the ceaser cipher. It is a substitution cipher where each character of the original text is shifted a certain number characters in the alphabet. Write a function that would require 2 arguments – the input text to be encrypted and a key. For eg: Given the input text ‘hello’ and the key 3, the resulting encryted text would be ‘khoor’. Here you can see that every character in the string hello is shifted by 3 characters. ‘h’ has shifted to ‘k’, ‘e’ has shifted to ‘h’ and so on. If a key of 5 were used, the resulting string would be ‘mjqqt’. This function should be capable of ignoring any characters which are not alphabets. Th2 character ‘z’ entered b\n",
    "y the user for a key of 3 would result in ‘c’.\n",
    "\n",
    "Usage:<br>\n",
    "**encrypt(‘hello world!’, 3)**<br>\n",
    "**‘khoor zruog!’**\n",
    "\n",
    "Similarly create decrypter which can decode the encryted text when provided the input text and key\n",
    "\n",
    "Usage:<br>\n",
    "**decrypt(‘khoor zruog!’, 3)**<br>\n",
    "**‘hello world!’**\n",
    "\n",
    "For the sake of simplicity you can assume that input solely consists of lowercase alphabets, spaces and punctuation symbols. Numbers in the input text would also be ignored similar to symbols."
   ]
  },
  {
   "cell_type": "code",
   "execution_count": 48,
   "metadata": {},
   "outputs": [],
   "source": [
    "def encrypt(text,key):\n",
    "    text=text.lower()\n",
    "    result=\"\"\n",
    "    string=\"abcdefghijklmnopqrstuvwxyz\"\n",
    "    for i in text:\n",
    "        if i in string:\n",
    "            result=result+string[(string.find(i)+key)%len(string)]\n",
    "        elif i.isnumeric()==True:\n",
    "            continue\n",
    "        else:\n",
    "            result=result+i\n",
    "    return result\n",
    "    "
   ]
  },
  {
   "cell_type": "code",
   "execution_count": 49,
   "metadata": {},
   "outputs": [
    {
     "data": {
      "text/plain": [
       "' khoor zruog!'"
      ]
     },
     "execution_count": 49,
     "metadata": {},
     "output_type": "execute_result"
    }
   ],
   "source": [
    "encryptc(\"hello world!\",3)"
   ]
  },
  {
   "cell_type": "code",
   "execution_count": 50,
   "metadata": {},
   "outputs": [],
   "source": [
    "def decrypt(text,key):\n",
    "    text=text.lower()\n",
    "    result=\"\"\n",
    "    string=\"abcdefghijklmnopqrstuvwxyz\"\n",
    "    for i in text:\n",
    "        if i in string:\n",
    "            index=(string.find(i)-key)%len(string)\n",
    "            result=result+string[index]\n",
    "        elif i.isnumeric()==True:\n",
    "            continue\n",
    "        else:\n",
    "            result=result+i\n",
    "    return(result)"
   ]
  },
  {
   "cell_type": "code",
   "execution_count": 51,
   "metadata": {},
   "outputs": [
    {
     "data": {
      "text/plain": [
       "' hello world!'"
      ]
     },
     "execution_count": 51,
     "metadata": {},
     "output_type": "execute_result"
    }
   ],
   "source": [
    "decryptc('khoor zruog!',3)"
   ]
  },
  {
   "cell_type": "code",
   "execution_count": 46,
   "metadata": {},
   "outputs": [
    {
     "name": "stdout",
     "output_type": "stream",
     "text": [
      "enter the word to encrypt : hello world!\n",
      "3\n",
      "khoor zruog!\n"
     ]
    }
   ],
   "source": [
    "string=\"abcdefghijklmnopqrstuvwxyz\"\n",
    "encrypt=input(\"enter the word to encrypt : \")\n",
    "\n",
    "x=int(input())\n",
    "encrypt=encrypt.lower()\n",
    "\n",
    "\n",
    "for i in encrypt:\n",
    "    if i in string:\n",
    "        print(string[(string.find(i)+x)%len(string)],end=\"\")\n",
    "    elif i.isnumeric()==True:\n",
    "        continue\n",
    "    else:\n",
    "        print(i,end=\"\")\n",
    "print()"
   ]
  },
  {
   "cell_type": "code",
   "execution_count": 47,
   "metadata": {},
   "outputs": [
    {
     "name": "stdout",
     "output_type": "stream",
     "text": [
      "enter the word to decrypt : khoor zruog!\n",
      "3\n",
      "hello world!"
     ]
    }
   ],
   "source": [
    "string=\"abcdefghijklmnopqrstuvwxyz\"\n",
    "decrypt=input(\"enter the word to decrypt : \")\n",
    "\n",
    "x=int(input())\n",
    "decrypt=decrypt.lower()\n",
    "      \n",
    "for i in decrypt:\n",
    "    if i in string:\n",
    "        print(string[(string.find(i)-y)%len(string)],end=\"\")\n",
    "    elif i.isnumeric()==True:\n",
    "        continue\n",
    "    else:\n",
    "        print(i,end=\"\")"
   ]
  },
  {
   "cell_type": "code",
   "execution_count": 45,
   "metadata": {},
   "outputs": [
    {
     "name": "stdout",
     "output_type": "stream",
     "text": [
      "enter the word to encrypt : hello world2!\n",
      "enter the word to decrypt: khoor zruog!\n",
      "enter key for encryption: 3\n",
      "enter key for decryption: 3\n",
      "khoor zruog!\n",
      "hello world!"
     ]
    }
   ],
   "source": [
    "string=\"abcdefghijklmnopqrstuvwxyz\"\n",
    "encrypt=input(\"enter the word to encrypt : \")\n",
    "decrypt=input(\"enter the word to decrypt: \")\n",
    "\n",
    "x=int(input(\"enter key for encryption: \"))\n",
    "y=int(input(\"enter key for decryption: \"))\n",
    "encrypt=encrypt.lower()\n",
    "decrypt=decrypt.lower()\n",
    "\n",
    "for i in encrypt:\n",
    "    if i in string:\n",
    "        print(string[(string.find(i)+x)%len(string)],end=\"\")\n",
    "    elif i.isnumeric()==True:\n",
    "        continue\n",
    "    else:\n",
    "        print(i,end=\"\")\n",
    "print()\n",
    "for i in decrypt:\n",
    "    if i in string:\n",
    "        print(string[(string.find(i)-y)%len(string)],end=\"\")\n",
    "    elif i.isnumeric()==True:\n",
    "        continue\n",
    "    else:\n",
    "        print(i,end=\"\")"
   ]
  },
  {
   "cell_type": "code",
   "execution_count": null,
   "metadata": {},
   "outputs": [],
   "source": []
  }
 ],
 "metadata": {
  "kernelspec": {
   "display_name": "Python 3",
   "language": "python",
   "name": "python3"
  },
  "language_info": {
   "codemirror_mode": {
    "name": "ipython",
    "version": 3
   },
   "file_extension": ".py",
   "mimetype": "text/x-python",
   "name": "python",
   "nbconvert_exporter": "python",
   "pygments_lexer": "ipython3",
   "version": "3.8.8"
  }
 },
 "nbformat": 4,
 "nbformat_minor": 2
}
